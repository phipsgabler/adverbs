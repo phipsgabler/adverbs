{
 "cells": [
  {
   "cell_type": "markdown",
   "metadata": {},
   "source": [
    "# Relevante Definitionen des [STTS-Tagsets](http://www.sfs.uni-tuebingen.de/Elwis/stts/stts.html)\n",
    "\n",
    "## ADV\n",
    "\n",
    "\"Echte\" Adverbien: reine, nicht von Adjektiven abgeleitete, nicht flektierbare Modifizierer von Verben, Adjektiven, Adverbien und ganzen Sätzen.  Ebenfalls Wortformen, die acuh als attributive Adjektive auftreten können und adverbial verwendet werden, die aber semantisch nichts (mehr) mit dem Adjektiv verbindet, und die meistens _nicht_ prädikativ verwendet werden können.\n",
    "\n",
    "- er kommt _sehr_ _bald_ _dort_ an\n",
    "- das hat sich _immer_ noch nicht geändert\n",
    "- er kommt _dann_ _ja_ _wohl_ _doch_ nicht\n",
    "- das hat er _so_ gewollt\n",
    "\n",
    "## PWAV\n",
    "\n",
    "Mit 'w-' beginnende Adverbien (wann, wo, worüber, ...), die sowohl als Interrogativ- als auch als Relativpronomina verwendet werden können.  In indirekten Fragesätzen oder Relativsätzen.  \"wo\"/\"wer\"/\"wann\" + Präposition\n",
    "\n",
    "- _Wo_ wohnt er?\n",
    "- er fragt, _wo_ er wohnt\n",
    "- der Ort, _wo_ er wohnt\n",
    "\n",
    "## PROAV\n",
    "\n",
    "Pronominaladverbien: zusammengesetzt aus einer Präposition und einem Pronominalstamm. Treten anstelle einer PP als Adverbialbestimmung oder Präpositionalobjekt auf.  \"da\", \"hier\", ART + Präposition.\n",
    "\n",
    "- er wehrt sich _dagegen_\n",
    "- er hat sich _dementsprechend_ verhalten\n",
    "- er hat sich _seitdem_ ruhig verhalten\n",
    "\n",
    "## PTKNEG\n",
    "\n",
    "Negationspartikel -- nur die Form \"nicht\". Andere Formen wie \"nie\", \"nirgends\", ..., werden als ADV getaggt.\n",
    "\n",
    "## PTKVZ\n",
    "\n",
    "Sowohl \"echte\" trennbare Präfixe (\"an-kommen\"), als auch nominale oder ähnliche Verbzusätze wie \"statt-finden\", \"überhand-nehmen\", etc.  Auch Formen, die als Adverb, Adjektiv oder Postposition auftreten können.  Ein Verbzusatz tritt nur in finiten Verben mit Hauptsatzstellung (V1 oder V2) auf.\n",
    "\n",
    "- er hört _auf_\n",
    "- hör _auf_\n",
    "- er kommt _herbei_\n",
    "- er gehört _dazu_\n",
    "- er hält _geheim_\n",
    "- er geht die Straße _entlang_\n",
    "- er läuft _eis_\n",
    "\n",
    "Als PTKVZ klassifiziert, wenn die kombination ein Präfixverb ergibt (\"mitkommen\"); als ADV, wenn das entsprechende Verb nicht lexikalisiert ist.  (Sonst laut Dokumentsion Topikalierungstest: \"mit in den Keller runterkommen\" vs. \"runter in den Keller mitkommen\".)\n",
    "\n",
    "## ADJD\n",
    "\n",
    "Prädikativ oder adverbial gebrauchte Adjektive.  Hier relevant: adverbial gebrauchte Partizipien: \n",
    "\n",
    "- _gebraucht_ kaufen,\n",
    "- _rasend_ werden"
   ]
  },
  {
   "cell_type": "markdown",
   "metadata": {},
   "source": [
    "# Text\n",
    "\n",
    "[Rosa Luxemburg, Briefe aus dem Gefängnis](https://www.gutenberg.org/cache/epub/26964/pg26964.txt)"
   ]
  },
  {
   "cell_type": "markdown",
   "metadata": {},
   "source": [
    "# Analyse"
   ]
  },
  {
   "cell_type": "code",
   "execution_count": 5,
   "metadata": {
    "collapsed": true
   },
   "outputs": [],
   "source": [
    "import spacy\n",
    "nlp = spacy.load('de')"
   ]
  },
  {
   "cell_type": "code",
   "execution_count": 97,
   "metadata": {
    "collapsed": true
   },
   "outputs": [],
   "source": [
    "with open('briefe.txt', 'r') as file:\n",
    "    doc = nlp(file.read())"
   ]
  },
  {
   "cell_type": "code",
   "execution_count": 98,
   "metadata": {},
   "outputs": [
    {
     "name": "stdout",
     "output_type": "stream",
     "text": [
      "{'PTKNEG', 'ADJD', 'PWAV', 'PTKVZ', 'PROAV', 'ADV'}\n",
      "2057\n"
     ]
    }
   ],
   "source": [
    "adv_tags = {'ADV', 'PWAV', 'PROAV', 'ADJD', 'PTKNEG', 'PTKVZ'}\n",
    "adverbs = [word for word in doc if word.tag_ in adv_tags]\n",
    "print(set(word.tag_ for word in adverbs))\n",
    "print(len(adverbs))"
   ]
  },
  {
   "cell_type": "code",
   "execution_count": 99,
   "metadata": {
    "collapsed": true
   },
   "outputs": [],
   "source": [
    "from ggplot import *\n",
    "import pandas as pd"
   ]
  },
  {
   "cell_type": "code",
   "execution_count": 100,
   "metadata": {
    "collapsed": true
   },
   "outputs": [],
   "source": [
    "data = pd.DataFrame({'position': [w.i for w in adverbs],\n",
    "                     'word': [w.lemma_ for w in adverbs],\n",
    "                     'tag': [w.tag_ for w in adverbs],\n",
    "                     'context': [doc[max(w.i - 5, 0):min(w.i + 5, len(doc))] for w in adverbs]})"
   ]
  },
  {
   "cell_type": "code",
   "execution_count": 101,
   "metadata": {},
   "outputs": [
    {
     "data": {
      "text/html": [
       "<div>\n",
       "<style>\n",
       "    .dataframe thead tr:only-child th {\n",
       "        text-align: right;\n",
       "    }\n",
       "\n",
       "    .dataframe thead th {\n",
       "        text-align: left;\n",
       "    }\n",
       "\n",
       "    .dataframe tbody tr th {\n",
       "        vertical-align: top;\n",
       "    }\n",
       "</style>\n",
       "<table border=\"1\" class=\"dataframe\">\n",
       "  <thead>\n",
       "    <tr style=\"text-align: right;\">\n",
       "      <th></th>\n",
       "      <th>context</th>\n",
       "      <th>position</th>\n",
       "      <th>tag</th>\n",
       "      <th>word</th>\n",
       "    </tr>\n",
       "  </thead>\n",
       "  <tbody>\n",
       "    <tr>\n",
       "      <th>0</th>\n",
       "      <td>(Sonja, !,  , Es, ist, heute, eine, drückende,...</td>\n",
       "      <td>8</td>\n",
       "      <td>ADV</td>\n",
       "      <td>heute</td>\n",
       "    </tr>\n",
       "    <tr>\n",
       "      <th>1</th>\n",
       "      <td>(eine, drückende, feuchte, Hitze, ,, wie, meis...</td>\n",
       "      <td>14</td>\n",
       "      <td>PWAV</td>\n",
       "      <td>wie</td>\n",
       "    </tr>\n",
       "    <tr>\n",
       "      <th>2</th>\n",
       "      <td>(drückende, feuchte, Hitze, ,, wie, meist, in,...</td>\n",
       "      <td>15</td>\n",
       "      <td>ADV</td>\n",
       "      <td>meist</td>\n",
       "    </tr>\n",
       "    <tr>\n",
       "      <th>3</th>\n",
       "      <td>(Leipzig, -, ich, \\n, vertrage, so, schlecht, ...</td>\n",
       "      <td>22</td>\n",
       "      <td>ADV</td>\n",
       "      <td>so</td>\n",
       "    </tr>\n",
       "    <tr>\n",
       "      <th>4</th>\n",
       "      <td>(-, ich, \\n, vertrage, so, schlecht, die, Luft...</td>\n",
       "      <td>23</td>\n",
       "      <td>ADJD</td>\n",
       "      <td>schlecht</td>\n",
       "    </tr>\n",
       "  </tbody>\n",
       "</table>\n",
       "</div>"
      ],
      "text/plain": [
       "                                             context  position   tag      word\n",
       "0  (Sonja, !,  , Es, ist, heute, eine, drückende,...         8   ADV     heute\n",
       "1  (eine, drückende, feuchte, Hitze, ,, wie, meis...        14  PWAV       wie\n",
       "2  (drückende, feuchte, Hitze, ,, wie, meist, in,...        15   ADV     meist\n",
       "3  (Leipzig, -, ich, \\n, vertrage, so, schlecht, ...        22   ADV        so\n",
       "4  (-, ich, \\n, vertrage, so, schlecht, die, Luft...        23  ADJD  schlecht"
      ]
     },
     "execution_count": 101,
     "metadata": {},
     "output_type": "execute_result"
    }
   ],
   "source": [
    "data.head()"
   ]
  },
  {
   "cell_type": "markdown",
   "metadata": {},
   "source": [
    "## Relative Häufigkeit der Tags"
   ]
  },
  {
   "cell_type": "code",
   "execution_count": 102,
   "metadata": {
    "collapsed": true
   },
   "outputs": [],
   "source": [
    "%matplotlib inline"
   ]
  },
  {
   "cell_type": "code",
   "execution_count": 103,
   "metadata": {},
   "outputs": [
    {
     "data": {
      "text/plain": [
       "<matplotlib.axes._subplots.AxesSubplot at 0x7f33add7a5c0>"
      ]
     },
     "execution_count": 103,
     "metadata": {},
     "output_type": "execute_result"
    },
    {
     "data": {
      "image/png": "[encoded data removed]",
      "text/plain": [
       "<matplotlib.figure.Figure at 0x7f33adfe36d8>"
      ]
     },
     "metadata": {},
     "output_type": "display_data"
    }
   ],
   "source": [
    "(data.tag.value_counts() / data.tag.value_counts().sum()).plot(kind = 'bar')"
   ]
  },
  {
   "cell_type": "markdown",
   "metadata": {},
   "source": [
    "## Tokens in den einzelnen Tags"
   ]
  },
  {
   "cell_type": "code",
   "execution_count": 104,
   "metadata": {},
   "outputs": [
    {
     "name": "stdout",
     "output_type": "stream",
     "text": [
      "{'vorerst', 'zuerst', 'sehnlichst', 'heuer', 'höchstens', 'stets', 'ganz', 'leise', 'zwar', 'hier', 'drüben', 'einigermaßen', 'mitten', 'bloß', 'je', 'zusammen', 'herzlichst', 'damals', 'fast', 'quer', 'herunter', 'etwa', 'einfach', 'irgendwo', 'nächstens', 'lieber', 'durchaus', 'z.b.', 'so', 'geradezu', 'nachmittags', 'fortan', 'nun', 'wahrhaft', 'oft', 'allerdings', 'vielleicht', 'vormittag', 'usw.', 'nebeneinander', 'wieder', 'eben', 'hinüber', 'bald', 'bitte', 'abend', 'dann', 'apropos', 'hoffentlich', 'aber', 'sogar', 'ja', 'droben', 'ebenso', 'gar', 'kaum', 'sofort', 'allein', 'jedesmal', 'selbst', 'wohl', 'eigentlich', 'drin', 'jedenfalls', 'sicherlich', 'wem', 'südwärts', 'natürlich', 'rings', 'endlich', 'morgen', 'anbei', 'nämlich', 'ziemlich', 'vielmals', 'wochenlang', 'zugleich', 'zu', 'unten', 'anderswo', 'mir', 'tausendmal', 'manchmal', 'lange', 'just', 'überall', 'schleunigst', 'noch', 'immer', 'wenigstens', 'vorgestern', 'einmal', 'mich', 'meist', 'anfangs', 'doch', 'leider', 'weniger', 'gestern', 'vornherein', 'hindurch', 'andern', 'derart', 'gleich', 'innen', 'gut', 'nie', 'freilich', 'gegenüber', 'mehr', 'heute', 'namentlich', 'vorbei', 'irgend', 'links', 'beiderseits', 'abgäbe', 'gern', 'schließlich', 'vorne', 'neulich', 'da', 'längst', 'abends', 'zuwider', 'wenig', 'immerzu', 'erst', 'herumschleppe', 'anders', 'weiter', 'schlimmstenfalls', 'recht', 'hingegen', 'dort', 'hin', 'zweimal', 'beinahe', 'sehr', 'jetzt', 'sicher', 'unbedingt', 'absolut', 'oben', 'sobald', 'irgendeine', 'gleichfalls', 'her', 'spazieren', 'öfters', 'eintausendmal', 'soeben', 'vorwärts', 'derselbe', 'überhaupt', 'mags', 'derweil', 'viel', 'inzwischen', 'auch', 'zart', 'heim', 'zurück', 'draußen', 'schon', 'besonders', 'hintereinander', 'übrigens', 'also', 'denn', 'mal', 'gerade', 'dreimal', 'hör', 'diesmal', 'etwas', 'ach', 'genug', 'sonst', 'nur'}\n",
      "180\n"
     ]
    }
   ],
   "source": [
    "adv = set(data[data.tag == 'ADV'].word)\n",
    "print(adv)\n",
    "print(len(adv))"
   ]
  },
  {
   "cell_type": "code",
   "execution_count": 105,
   "metadata": {},
   "outputs": [
    {
     "name": "stdout",
     "output_type": "stream",
     "text": [
      "{'unermüdlich', 'vorläufig', 'frei', 'friedlich', 'schön', 'hergelaufen', 'erfrischt', 'herrlich', 'einzig', 'einsam', 'lieb', 'später', 'stillschweigend', 'wahrscheinlicher', 'grell', 'poetisch', 'weit', 'schnell', 'ganz', 'leise', 'lang', 'unklar', 'hoffnungslos', 'warm', 'rötlich', 'tiefer', 'kolossal', 'schwach', 'tausend', 'schonend', 'spät', 'spielend', 'lächerlich', 'krank', 'breiter', 'unbegreiflich', 'kurz', 'munter', 'lebhaft', 'lächelnd', 'realistisch', 'unruhig', 'unfaßbar', 'behaglich', 'auffallend', 'täglich', 'quer', 'wahrscheinlich', 'geräuschvoll', 'ähnlicher', 'berauschend', 'geheimnisvoll', 'unveränderlich', 'still', 'einfach', 'vernehmlich', 'kläglich', 'tot', 'allgemein', 'raffiniert', 'geleckt', 'endlos', 'stehts', 'tragisch', 'offiziell', 'rasch', 'frech', 'schrill', 'scheu', 'wahrhaft', 'stürmisch', 'aufgekeimt', 'häufig', 'massenhaft', 'speziell', 'flach', 'weh', 'bläulich', 'befreundet', 'hell', 'erschüttert', 'biegsam', 'übermütig', 'verblüht', 'unbeschreiblich', 'violettrötlich', 'satt', 'lederig', 'möglich', 'silbrig', 'direkt', 'glücklich', 'ruhiger', 'eilig', 'hoffentlich', 'gurgelnd', 'schwerer', 'geisterhaft', 'stumpf', 'interessant', 'drollig', 'größer', 'düster', 'gegenseitig', 'abwechselnd', 'fester', 'lautlos', 'länger', 'mächtig', 'wunderbar', 'fröhlich', 'geistig', 'früh', 'heilig', 'rührend', 'goldig', 'verantwortlich', 'gradlinig', 'langsam', 'herübersprang', 'raubgierig', 'dasselbe', 'verdrossen', 'lustig', 'kalt', 'erfreut', 'bös', 'kräftiger', 'unverzagt', 'ergriffen', 'hohl', 'geschäftig', 'trübsinnig', 'frisch', 'hingerissen', 'buchstäblich', 'schwül', 'schwefelgelb', 'klar', 'sprichwörtlich', 'gesund', 'dicht', '«', 'ohnmächtig', 'liebsten', 'hauptsächlich', 'leide', 'brillant', 'schwarz', 'fahl', 'telephonisch', 'wahrhaftig', 'vergeblich', 'anheimelnd', 'ständig', 'hie', 'heimisch', 'krampfhaft', 'wichtig', 'keusch', 'dunkelgrün', 'ernst', 'unbeweglich', 'offen', 'weich', 'zitternd', 'kenne', 'tapfer', 'leuchtend', 'überreif', 'groß', 'selig', 'schmerzlicher', 'befreit', 'schwer', 'kaputt', 'böse', 'hart', 'unaussprechlich', 'schade', 'gewöhnlich', 'regnerisch', 'wach', 'verzweifelt', 'auswendig', 'merkwürdig', 'geistreich', 'einfarbig', 'lebenswert', 'genau', 'farbenreich', 'stehend', 'undeutlich', 'gleich', 'energisch', 'trefflich', 'gut', 'erbittert', 'trippelnd', 'irritiert', 'unvergeßlich', 'unsichtbar', 'wahr', 'interessiert', 'dick', 'regungslos', 'plötzlich', 'halbtot', 'seltsam', 'virtuos', 'stark', 'objektiv', 'herzlich', 'laut', 'beständig', 'gelegentlich', 'purpurrot', 'gebannt', 'hartnäckig', 'leid', 'behutsam', 'besser', 'gleichmäßig', 'mühsam', 'großzügig', 'kleinlich', 'heiter', 'richtig', 'vorübergehend', 'unerreichbar', 'zeitweilig', 'fest', 'geduldig', 'zerflatternd', 'überirdisch', 'dringend', 'dumpf', 'persönlich', 'furchtbar', 'ausgezeichnet', 'grün', 'selten', 'offenbar', 'gemischt', 'lebendig', 'dankbar', 'sicher', 'lästig', 'ursprünglich', 'rot', 'jahrzehntelang', 'steif', 'voll', 'reizend', 'mannigfaltig', 'tief', 'straff', 'innerlich', 'zierlich', 'entschieden', 'untrennbar', 'ratlos', 'knospend', 'überströmend', 'froh', 'bedeckt', 'grau', 'berauscht', 'hüpfend', 'allmählich', 'vollkommen', 'leicht', 'völlig', 'treu', 'umgekehrt', 'freudig', 'suchend', 'zart', 'unwiederbringlich', 'wirklich', 'hilflos', 'bitter', 'dank', 'schlank', 'rauh', 'landläufig', 'förmlich', 'unbekannt', 'traurig', 'fleißig', 'rechtzeitig', 'spitz', 'ähnlich', 'rosig', 'angenehm', 'schonungslos', 'schlecht', 'hoch', 'fremd', 'unwillkürlich', 'unsagbar', 'klein', 'unwahrscheinlich', 'blank', 'instinktiv', 'ruhig', 'ungeheuer'}\n",
      "307\n"
     ]
    }
   ],
   "source": [
    "adjd = set(data[data.tag == 'ADJD'].word)\n",
    "print(adjd)\n",
    "print(len(adjd))"
   ]
  },
  {
   "cell_type": "code",
   "execution_count": 106,
   "metadata": {},
   "outputs": [
    {
     "name": "stdout",
     "output_type": "stream",
     "text": [
      "{'warum', 'wo', 'wofür', 'wohin', 'woher', 'worauf', 'weshalb', 'wann', 'wie', 'wozu', 'wobei'}\n",
      "11\n"
     ]
    }
   ],
   "source": [
    "pwav = set(data[data.tag == 'PWAV'].word)\n",
    "print(pwav)\n",
    "print(len(pwav))"
   ]
  },
  {
   "cell_type": "code",
   "execution_count": 107,
   "metadata": {},
   "outputs": [
    {
     "name": "stdout",
     "output_type": "stream",
     "text": [
      "{'las', 'weg', 'herum', 'hin', 'heran', 'hinauf', 'aus', 'fort', 'voraus', 'hinaus', 'umher', 'auf', 'entgegen', 'zusammen', 'vor', 'zugrunde', 'heraus', 'herbei', 'heim', 'gegenüber', 'bei', 'herunter', 'vorbei', 'an', 'still', 'hinein', 'da', 'mit', 'weiter', 'herein', 'zu', 'keine', 'fest', 'ab'}\n",
      "34\n"
     ]
    }
   ],
   "source": [
    "ptkvz = set(data[data.tag == 'PTKVZ'].word)\n",
    "print(ptkvz)\n",
    "print(len(ptkvz))"
   ]
  },
  {
   "cell_type": "code",
   "execution_count": 108,
   "metadata": {},
   "outputs": [
    {
     "name": "stdout",
     "output_type": "stream",
     "text": [
      "{'hinüber', 'daraus', 'dazwischen', 'daneben', 'dahin', 'darin', 'daher', 'davon', 'deshalb', 'darunter', 'dagegen', 'daran', 'dazu', 'dadurch', 'dramatis', 'damit', 'danach', 'dafür', 'davor', 'trotzdem', 'dabei', 'darauf', 'darüber'}\n",
      "23\n"
     ]
    }
   ],
   "source": [
    "proav = set(data[data.tag == 'PROAV'].word)\n",
    "print(proav)\n",
    "print(len(proav))"
   ]
  },
  {
   "cell_type": "code",
   "execution_count": null,
   "metadata": {
    "collapsed": true
   },
   "outputs": [],
   "source": []
  }
 ],
 "metadata": {
  "kernelspec": {
   "display_name": "Python 3 (spacy)",
   "language": "python",
   "name": "spacy"
  },
  "language_info": {
   "codemirror_mode": {
    "name": "ipython",
    "version": 3
   },
   "file_extension": ".py",
   "mimetype": "text/x-python",
   "name": "python",
   "nbconvert_exporter": "python",
   "pygments_lexer": "ipython3",
   "version": "3.6.1"
  }
 },
 "nbformat": 4,
 "nbformat_minor": 2
}
